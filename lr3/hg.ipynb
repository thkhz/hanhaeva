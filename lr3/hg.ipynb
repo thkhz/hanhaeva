{
  "cells": [
    {
      "cell_type": "markdown",
      "metadata": {
        "id": "view-in-github",
        "colab_type": "text"
      },
      "source": [
        "<a href=\"https://colab.research.google.com/github/thkhz/hanhaeva/blob/main/lr3/hg.ipynb\" target=\"_parent\"><img src=\"https://colab.research.google.com/assets/colab-badge.svg\" alt=\"Open In Colab\"/></a>"
      ]
    },
    {
      "cell_type": "markdown",
      "id": "bb332bf9",
      "metadata": {
        "id": "bb332bf9"
      },
      "source": [
        "# **Дополнительное задание №3. Обработка исключений и работа с текстовыми файлами**"
      ]
    },
    {
      "cell_type": "markdown",
      "id": "aa6808db",
      "metadata": {
        "id": "aa6808db"
      },
      "source": [
        "**БАЗА:**\n",
        "\n",
        "- **Обработка исключений** позволяет перехватывать и обрабатывать ошибки, возникающие при выполнении программы, предотвращая её аварийное завершение.\n",
        "- **Работа с файлами** - важный навык для чтения, записи и обработки текстовой информации в Python.\n",
        "\n",
        "---"
      ]
    },
    {
      "cell_type": "markdown",
      "id": "2478deca",
      "metadata": {
        "id": "2478deca"
      },
      "source": [
        "## **I. Обработка исключений**"
      ]
    },
    {
      "cell_type": "markdown",
      "id": "0ab0b851",
      "metadata": {
        "id": "0ab0b851"
      },
      "source": [
        "### **Пункт №1. Обработка некорректного индекса (IndexError)**"
      ]
    },
    {
      "cell_type": "markdown",
      "id": "46e69e1f",
      "metadata": {
        "id": "46e69e1f"
      },
      "source": [
        "Создайте список из нескольких элементов (например, [10, 20, 30]). Попросите пользователя ввести индекс элемента, который нужно вывести. Если пользователь введёт индекс, выходящий за границы списка, перехватите IndexError и сообщите об этом.\n",
        "\n",
        "**ОБЯЗАТЕЛЬНО:**\n",
        "- Создайте список из минимум 5 элементов\n",
        "- Покажите содержимое списка перед работой\n",
        "- Протестируйте минимум 4 случая (корректный индекс, отрицательный, слишком большой, нечисловое значение)"
      ]
    },
    {
      "cell_type": "code",
      "execution_count": 15,
      "id": "724c5954",
      "metadata": {
        "id": "724c5954",
        "colab": {
          "base_uri": "https://localhost:8080/"
        },
        "outputId": "e12eb30d-ad4d-439c-f602-7a27134f96ae"
      },
      "outputs": [
        {
          "output_type": "stream",
          "name": "stdout",
          "text": [
            "gfhf\n",
            "Ошибка: gfhf введено не число!\n"
          ]
        }
      ],
      "source": [
        "a = [10,20,30,40,50,60]\n",
        "try:\n",
        "  b = input()\n",
        "  j = int(b)\n",
        "  с = a[j]\n",
        "  print(с)\n",
        "except IndexError:\n",
        "  print(f\"Ошибка:неверный индекс {b}\")\n",
        "except ValueError:\n",
        "  print(f\"Ошибка: {b} введено не число!\")\n",
        "\n",
        ""
      ]
    },
    {
      "cell_type": "markdown",
      "id": "7ac84eec",
      "metadata": {
        "id": "7ac84eec"
      },
      "source": [
        "---"
      ]
    },
    {
      "cell_type": "markdown",
      "id": "f8bfb6e1",
      "metadata": {
        "id": "f8bfb6e1"
      },
      "source": [
        "### **Пункт №2. Обработка исключений в цикле**"
      ]
    },
    {
      "cell_type": "markdown",
      "id": "63c3b706",
      "metadata": {
        "id": "63c3b706"
      },
      "source": [
        "Напишите программу, которая запрашивает у пользователя числа и добавляет их в список.\n",
        "- Если пользователь вводит некорректные данные, программа должна выводить сообщение об ошибке и продолжать работу.\n",
        "- Для выхода из программы пользователь должен ввести \"стоп\".\n",
        "\n",
        "**ОБЯЗАТЕЛЬНО:**\n",
        "- Покажите процесс ввода минимум 7 значений (включая ошибочные)\n",
        "- Выведите финальный список и статистику (сколько чисел введено успешно, сколько ошибок)"
      ]
    },
    {
      "cell_type": "markdown",
      "source": [
        "\n",
        "\n",
        "```\n",
        "# Пример:\n",
        "# Введите число: 10\n",
        "# Введите число: текст (Ошибка: это не число)\n",
        "# Введите число: стоп\n",
        "# Итоговый список: [10]\n",
        "```\n",
        "\n"
      ],
      "metadata": {
        "id": "aiWaEPOuoHDS"
      },
      "id": "aiWaEPOuoHDS"
    },
    {
      "cell_type": "code",
      "execution_count": 20,
      "id": "31448e09",
      "metadata": {
        "id": "31448e09",
        "colab": {
          "base_uri": "https://localhost:8080/"
        },
        "outputId": "e7dff50b-f30f-428d-925c-221d7d2fd614"
      },
      "outputs": [
        {
          "output_type": "stream",
          "name": "stdout",
          "text": [
            "Введите число: 10\n",
            "Введите число: 456\n",
            "Введите число: -45\n",
            "Введите число: 856\n",
            "Введите число: 0001\n",
            "Введите число: jhf\n",
            "(Ошибка: это не число)\n",
            "Введите число: 45\n",
            "Введите число: прох\n",
            "(Ошибка: это не число)\n",
            "Введите число: 0\n",
            "Введите число: стоп\n",
            "Итоговый список: [10, 456, -45, 856, 1, 45, 0]\n",
            "Введено успешно: 7 чисел\n",
            "Ошибок: 2\n"
          ]
        }
      ],
      "source": [
        "a = []\n",
        "y = 0\n",
        "n = 0\n",
        "while True:\n",
        "  d = input('Введите число: ').strip()\n",
        "  if d == 'стоп' or d == 'Стоп':\n",
        "    break\n",
        "  try:\n",
        "    nomer = int(d)\n",
        "    a.append(nomer)\n",
        "    y = y + 1\n",
        "  except ValueError:\n",
        "    n = n +1\n",
        "    print('(Ошибка: это не число)')\n",
        "print(f'Итоговый список: {a}')\n",
        "print(f'Введено успешно: {y} чисел')\n",
        "print(f'Ошибок: {n}')\n",
        ""
      ]
    },
    {
      "cell_type": "markdown",
      "metadata": {
        "id": "Yv-FNYTEp0vV"
      },
      "source": [
        "---"
      ],
      "id": "Yv-FNYTEp0vV"
    },
    {
      "cell_type": "markdown",
      "id": "5971f85d",
      "metadata": {
        "id": "5971f85d"
      },
      "source": [
        "### **Пункт №3**"
      ]
    },
    {
      "cell_type": "markdown",
      "id": "b1457074",
      "metadata": {
        "id": "b1457074"
      },
      "source": [
        "Создайте функцию `get_list_element(lst, index)`, которая безопасно извлекает элемент списка по индексу с использованием блоков `try`, `except`, `else` и `finally`.\n",
        "\n",
        "Функция должна:\n",
        "- Обрабатывать выход за пределы списка\n",
        "- Обрабатывать некорректный тип индекса\n",
        "- Выводить сообщение о попытке доступа в блоке `finally`\n",
        "\n",
        "**ОБЯЗАТЕЛЬНО:**\n",
        "- Выведите результаты для минимум 4 различных случаев (успешный доступ, выход за границы, отрицательный индекс, нечисловой индекс)\n",
        "- Покажите, что блок `finally` выполняется всегда\n",
        "\n",
        "```python\n",
        "# Пример использования:\n",
        "my_list = [1, 2, 3, 4, 5]\n",
        "get_list_element(my_list, 2)   # Вывод: \"Элемент: 3\", \"Попытка доступа завершена\"\n",
        "get_list_element(my_list, 10)  # Вывод: \"Индекс вне диапазона\", \"Попытка доступа завершена\"\n",
        "```"
      ]
    },
    {
      "cell_type": "code",
      "execution_count": 26,
      "id": "1c067cf3",
      "metadata": {
        "id": "1c067cf3",
        "colab": {
          "base_uri": "https://localhost:8080/"
        },
        "outputId": "a1ad8767-c7f2-4943-db61-ac0882ebf30c"
      },
      "outputs": [
        {
          "output_type": "stream",
          "name": "stdout",
          "text": [
            "элемент: 3, попытка доступа завершена\n",
            "индекс вне диапазона, попытка доступа завершена\n",
            "элемент: 9, попытка доступа завершена\n",
            "некорректный индекс, попытка доступа завершена\n"
          ]
        }
      ],
      "source": [
        "def get_list_element(lst, index):\n",
        "  try:\n",
        "    a = lst[index]\n",
        "  except IndexError:\n",
        "    print('индекс вне диапазона', end = ', ')\n",
        "  except Exception:\n",
        "    print('некорректный индекс', end = ', ')\n",
        "  else:\n",
        "    print(f'элемент: {a}', end = ', ')\n",
        "  finally:\n",
        "    print('попытка доступа завершена')\n",
        "\n",
        "\n",
        "my_list = [1, 2, 3, 4, 5, 6, 7, 8, 9, 10]\n",
        "get_list_element(my_list, 2)\n",
        "get_list_element(my_list, 100)\n",
        "get_list_element(my_list, -2)\n",
        "get_list_element(my_list, 'hjk')"
      ]
    },
    {
      "cell_type": "markdown",
      "id": "b5bb39c7",
      "metadata": {
        "id": "b5bb39c7"
      },
      "source": [
        "---"
      ]
    },
    {
      "cell_type": "markdown",
      "id": "b0972d59",
      "metadata": {
        "id": "b0972d59"
      },
      "source": [
        "## **II. Работа с текстовыми файлами**"
      ]
    },
    {
      "cell_type": "markdown",
      "id": "35729435",
      "metadata": {
        "id": "35729435"
      },
      "source": [
        "### **Пункт №1. Запись в файл**"
      ]
    },
    {
      "cell_type": "markdown",
      "id": "3121365f",
      "metadata": {
        "id": "3121365f"
      },
      "source": [
        "Напишите программу, которая запрашивает у пользователя строку и записывает её в файл output.txt в режиме дозаписи.\n",
        "\n",
        "**ОБЯЗАТЕЛЬНО:**\n",
        "- Запросите у пользователя минимум 3 строки\n",
        "- Покажите содержимое файла после записи"
      ]
    },
    {
      "cell_type": "code",
      "execution_count": 13,
      "id": "cbce6c5f",
      "metadata": {
        "id": "cbce6c5f",
        "colab": {
          "base_uri": "https://localhost:8080/"
        },
        "outputId": "a213c218-aea2-4495-e8b2-a7a9a85694c3"
      },
      "outputs": [
        {
          "output_type": "stream",
          "name": "stdout",
          "text": [
            "Введите строку: привет\n",
            "Введите строку: пока\n",
            "Введите строку: как дела\n",
            "Введите строку: что делаешь\n",
            "Введите строку: как ты\n",
            "Введите строку: чем занят\n",
            "Введите строку: вы\n",
            "Введите строку: ты\n",
            "Введите строку: я\n",
            "Введите строку: почему\n",
            "привет\n",
            "пока\n",
            "как дела\n",
            "что делаешь\n",
            "как ты\n",
            "чем занят\n",
            "вы\n",
            "ты\n",
            "я\n",
            "почему\n"
          ]
        }
      ],
      "source": [
        "f = open('output.txt', 'w+')\n",
        "for i in range(10):\n",
        "  t = input(f\"Введите строку: \").strip()\n",
        "  if t == 'стоп' or t == 'Стоп':\n",
        "    break\n",
        "  f.write(t + '\\n')\n",
        "f.seek(0)\n",
        "for i in f.readlines():\n",
        "  print(i, end = '')\n",
        "f.close()"
      ]
    },
    {
      "cell_type": "markdown",
      "id": "361b3d2b",
      "metadata": {
        "id": "361b3d2b"
      },
      "source": [
        "---"
      ]
    },
    {
      "cell_type": "markdown",
      "id": "cce864b4",
      "metadata": {
        "id": "cce864b4"
      },
      "source": [
        "### **Пункт №2. Чтение из файла**"
      ]
    },
    {
      "cell_type": "markdown",
      "id": "4fc83b82",
      "metadata": {
        "id": "4fc83b82"
      },
      "source": [
        "Напишите программу, которая открывает файл output.txt и выводит его содержимое на экран.\n",
        "\n",
        "**ОБЯЗАТЕЛЬНО:**\n",
        "- Создайте файл с минимум 5 строками текста\n",
        "- Покажите содержимое файла целиком\n",
        "- Обработайте случай отсутствующего файла"
      ]
    },
    {
      "cell_type": "code",
      "execution_count": 14,
      "id": "df27a986",
      "metadata": {
        "id": "df27a986",
        "colab": {
          "base_uri": "https://localhost:8080/"
        },
        "outputId": "d3a26638-9e18-473f-b2de-d9d49d37cadf"
      },
      "outputs": [
        {
          "output_type": "stream",
          "name": "stdout",
          "text": [
            "привет\n",
            "пока\n",
            "как дела\n",
            "что делаешь\n",
            "как ты\n",
            "чем занят\n",
            "вы\n",
            "ты\n",
            "я\n",
            "почему\n",
            "мигай\n",
            "ОШИБКА: Файл 'мигай' не найден!\n"
          ]
        }
      ],
      "source": [
        "f = open('output.txt', 'r')\n",
        "for i in f.readlines():\n",
        "  print(i, end = '')\n",
        "f.close()\n",
        "\n",
        "\n",
        "w = input()\n",
        "try:\n",
        "  with open(f'{w}.txt', 'r') as file:\n",
        "    a = file.read()\n",
        "    print(a)\n",
        "\n",
        "except FileNotFoundError:\n",
        "  print(f\"ОШИБКА: Файл '{w}' не найден!\")"
      ]
    },
    {
      "cell_type": "markdown",
      "id": "2be296a2",
      "metadata": {
        "id": "2be296a2"
      },
      "source": [
        "---"
      ]
    },
    {
      "cell_type": "markdown",
      "id": "045696ba",
      "metadata": {
        "id": "045696ba"
      },
      "source": [
        "### **Пункт №3. Подсчет строк в файле**"
      ]
    },
    {
      "cell_type": "markdown",
      "id": "570ac3e9",
      "metadata": {
        "id": "570ac3e9"
      },
      "source": [
        "Напишите программу, которая открывает файл output.txt и подсчитывает количество строк в нём.\n",
        "\n",
        "**ОБЯЗАТЕЛЬНО:**\n",
        "- Создайте тестовый файл с известным количеством строк (минимум 10)\n",
        "- Покажите первые 3 строки файла\n",
        "- Выведите общее количество строк\n",
        "- Выведите количество непустых строк"
      ]
    },
    {
      "cell_type": "code",
      "execution_count": 15,
      "id": "84aa205a",
      "metadata": {
        "id": "84aa205a",
        "colab": {
          "base_uri": "https://localhost:8080/"
        },
        "outputId": "cdd2d63a-b52f-409b-b0c2-0182a8265678"
      },
      "outputs": [
        {
          "output_type": "stream",
          "name": "stdout",
          "text": [
            "привет\n",
            "пока\n",
            "как дела\n",
            "Всего строк: 10\n",
            "Непустых строк: 10\n"
          ]
        }
      ],
      "source": [
        "f = open('output.txt', 'r')\n",
        "for i in f.readlines()[:3:]:\n",
        "  print(i, end = '')\n",
        "f.seek(0)\n",
        "print(f'Всего строк: {len(f.readlines())}')\n",
        "f.seek(0)\n",
        "k = [i for i in f if i]\n",
        "print(f'Непустых строк: {len(k)}')\n",
        "f.close()"
      ]
    },
    {
      "cell_type": "markdown",
      "id": "94c6dcb0",
      "metadata": {
        "id": "94c6dcb0"
      },
      "source": [
        "---"
      ]
    },
    {
      "cell_type": "markdown",
      "id": "56f2a74e",
      "metadata": {
        "id": "56f2a74e"
      },
      "source": [
        "### **Пункт №4. Копирование содержимого файла**"
      ]
    },
    {
      "cell_type": "markdown",
      "id": "ed736046",
      "metadata": {
        "id": "ed736046"
      },
      "source": [
        "Напишите программу, которая копирует содержимое файла input.txt в файл output.txt.\n",
        "\n",
        "**ОБЯЗАТЕЛЬНО:**\n",
        "- Создайте исходный файл с тестовым содержимым (минимум 5 строк)\n",
        "- Покажите содержимое исходного файла\n",
        "- Выполните копирование\n",
        "- Покажите содержимое скопированного файла\n",
        "- Обработайте случай отсутствия исходного файла"
      ]
    },
    {
      "cell_type": "code",
      "execution_count": 16,
      "id": "31bd8a06",
      "metadata": {
        "id": "31bd8a06",
        "colab": {
          "base_uri": "https://localhost:8080/"
        },
        "outputId": "f9c525fa-904c-414d-82c3-49b26ffcfc32"
      },
      "outputs": [
        {
          "output_type": "stream",
          "name": "stdout",
          "text": [
            "Введите строку: Досвидания\n",
            "Введите строку: Здравствуйте\n",
            "Введите строку: Онегин\n",
            "Введите строку: Пушкин\n",
            "Введите строку: Царицыно\n",
            "Введите строку: Горький\n",
            "Введите строку: стоп\n",
            "Досвидания\n",
            "Здравствуйте\n",
            "Онегин\n",
            "Пушкин\n",
            "Царицыно\n",
            "Горький\n",
            "привет\n",
            "пока\n",
            "как дела\n",
            "что делаешь\n",
            "как ты\n",
            "чем занят\n",
            "вы\n",
            "ты\n",
            "я\n",
            "почему\n",
            "пипи\n",
            "Ошибка: файл пипи не найден!\n"
          ]
        }
      ],
      "source": [
        "f = open('input.txt', 'w+')\n",
        "for i in range(10):\n",
        "  t = input(f\"Введите строку: \").strip()\n",
        "  if t == 'стоп' or t == 'Стоп':\n",
        "    break\n",
        "  f.write(t + '\\n')\n",
        "f.seek(0)\n",
        "for i in f.readlines():\n",
        "  print(i, end = '')\n",
        "\n",
        "with open('output.txt', 'r') as output_file:\n",
        "    n = output_file.read()\n",
        "with open('input.txt', 'w') as input_file:\n",
        "    input_file.write(n)\n",
        "\n",
        "f.seek(0)\n",
        "for i in f.readlines():\n",
        "  print(i, end = '')\n",
        "\n",
        "w = input()\n",
        "try:\n",
        "    with open(\"w\", \"r\") as file:\n",
        "        p = file.read()\n",
        "    print(f'Файл не найден:  {p}')\n",
        "\n",
        "except FileNotFoundError:\n",
        "    print(f'Ошибка: файл {w} не найден!')\n",
        "\n"
      ]
    },
    {
      "cell_type": "markdown",
      "id": "2f7c8ee5",
      "metadata": {
        "id": "2f7c8ee5"
      },
      "source": [
        "---"
      ]
    },
    {
      "cell_type": "markdown",
      "id": "70ee398b",
      "metadata": {
        "id": "70ee398b"
      },
      "source": [
        "### **Пункт №5. Поиск слова в файле**"
      ]
    },
    {
      "cell_type": "markdown",
      "id": "c67f8987",
      "metadata": {
        "id": "c67f8987"
      },
      "source": [
        "Напишите программу, которая открывает файл output.txt и проверяет, содержится ли в нём слово, введённое пользователем.\n",
        "\n",
        "**ОБЯЗАТЕЛЬНО:**\n",
        "- Создайте файл с минимум 10 строками текста\n",
        "- Покажите содержимое файла\n",
        "- Протестируйте поиск минимум 5 различных слов\n",
        "- Выведите номера строк, где найдено слово\n",
        "- Покажите количество вхождений слова"
      ]
    },
    {
      "cell_type": "code",
      "execution_count": 17,
      "id": "d961bbf3",
      "metadata": {
        "id": "d961bbf3",
        "colab": {
          "base_uri": "https://localhost:8080/"
        },
        "outputId": "3c1a198e-7071-48f6-bdb3-c7b741a5e19f"
      },
      "outputs": [
        {
          "output_type": "stream",
          "name": "stdout",
          "text": [
            "привет\n",
            "пока\n",
            "как дела\n",
            "что делаешь\n",
            "как ты\n",
            "чем занят\n",
            "вы\n",
            "ты\n",
            "я\n",
            "почему\n",
            "ты\n",
            "Номер строки слова:  [5, 8]\n",
            "количество вхождений слова  2\n",
            "парв\n",
            "Не найдено:  парв\n",
            "ваы\n",
            "Не найдено:  ваы\n",
            "как\n",
            "Номер строки слова:  [3, 5]\n",
            "количество вхождений слова  2\n",
            "привет\n",
            "Номер строки слова:  [1]\n",
            "количество вхождений слова  1\n"
          ]
        }
      ],
      "source": [
        "f = open('output.txt', 'r')\n",
        "for i in f.readlines():\n",
        "  print(i, end='')\n",
        "f.seek(0)\n",
        "n = f.read().replace('\\n', ' ').split(' ')\n",
        "f.seek(0)\n",
        "n2 = f.read().split('\\n')\n",
        "f.close()\n",
        "\n",
        "for i in range(5):\n",
        "  w = input()\n",
        "  if not n.count(w):\n",
        "    print('Не найдено: ', w)\n",
        "  else:\n",
        "    print('Номер строки слова: ', [i+1 for i in range(len(n2)) if n2[i].count(w)])\n",
        "    print('количество вхождений слова ', n.count(w))\n"
      ]
    },
    {
      "cell_type": "markdown",
      "id": "8d69c77a",
      "metadata": {
        "id": "8d69c77a"
      },
      "source": [
        "---"
      ]
    },
    {
      "cell_type": "markdown",
      "id": "0079e067",
      "metadata": {
        "id": "0079e067"
      },
      "source": [
        "### **Пункт №6. Чтение файла с обработкой FileNotFoundError**"
      ]
    },
    {
      "cell_type": "markdown",
      "id": "c3d27312",
      "metadata": {
        "id": "c3d27312"
      },
      "source": [
        "Напишите программу, которая запрашивает у пользователя имя файла и пытается открыть его. Если файла не существует, перехватите FileNotFoundError и выведите сообщение «Файл не найден!».\n",
        "\n",
        "**ОБЯЗАТЕЛЬНО:**\n",
        "- Протестируйте с существующим файлом\n",
        "- Протестируйте с несуществующим файлом\n",
        "- Покажите содержимое существующего файла"
      ]
    },
    {
      "cell_type": "code",
      "execution_count": null,
      "id": "0c262bd2",
      "metadata": {
        "id": "0c262bd2"
      },
      "outputs": [],
      "source": [
        "# Ваш код и демонстрация работы"
      ]
    },
    {
      "cell_type": "markdown",
      "id": "c3258b46",
      "metadata": {
        "id": "c3258b46"
      },
      "source": [
        "---"
      ]
    },
    {
      "cell_type": "markdown",
      "id": "02e0767b",
      "metadata": {
        "id": "02e0767b"
      },
      "source": [
        "### **Пункт №7. Подсчет статистики файла**"
      ]
    },
    {
      "cell_type": "markdown",
      "id": "1c33b711",
      "metadata": {
        "id": "1c33b711"
      },
      "source": [
        "Напишите функцию `file_statistics(filename)`, которая читает текстовый файл и возвращает словарь со статистикой:\n",
        "- Количество строк\n",
        "- Количество слов\n",
        "- Количество символов (с пробелами и без)\n",
        "\n",
        "**ОБЯЗАТЕЛЬНО:**\n",
        "- Создайте тестовый файл с минимум 5 строками текста\n",
        "- Выведите содержимое файла ДО обработки\n",
        "- Выведите полученную статистику\n",
        "- Обработайте случай несуществующего файла\n",
        "\n",
        "```python\n",
        "# Создание тестового файла\n",
        "test_content = \"\"\"Первая строка текста\n",
        "Вторая строка с большим количеством слов\n",
        "Третья строка\n",
        "Четвертая строка для теста\n",
        "Пятая и последняя строка\"\"\"\n",
        "\n",
        "# Сохраните в файл и продемонстрируйте работу\n",
        "```"
      ]
    },
    {
      "cell_type": "code",
      "execution_count": null,
      "id": "43bfd6b8",
      "metadata": {
        "id": "43bfd6b8"
      },
      "outputs": [],
      "source": [
        "# Ваш код и демонстрация работы"
      ]
    },
    {
      "cell_type": "markdown",
      "id": "903281dd",
      "metadata": {
        "id": "903281dd"
      },
      "source": [
        "---"
      ]
    },
    {
      "cell_type": "markdown",
      "id": "ad8b4ae4",
      "metadata": {
        "id": "ad8b4ae4"
      },
      "source": [
        "### **Пункт №8. Поиск и замена в файле**"
      ]
    },
    {
      "cell_type": "markdown",
      "id": "e5230d0a",
      "metadata": {
        "id": "e5230d0a"
      },
      "source": [
        "Напишите функцию `replace_in_file(filename, old_text, new_text)`, которая заменяет все вхождения `old_text` на `new_text` в файле и сохраняет результат в новый файл с префиксом \"modified_\".\n",
        "\n",
        "**ОБЯЗАТЕЛЬНО:**\n",
        "- Создайте файл с текстом, содержащим минимум 3 вхождения заменяемого слова\n",
        "- Выведите содержимое файла ДО замены\n",
        "- Выполните замену\n",
        "- Выведите содержимое файла ПОСЛЕ замены\n",
        "- Покажите количество произведенных замен"
      ]
    },
    {
      "cell_type": "code",
      "execution_count": null,
      "id": "64a05e35",
      "metadata": {
        "id": "64a05e35"
      },
      "outputs": [],
      "source": [
        "# Ваш код и демонстрация работы"
      ]
    },
    {
      "cell_type": "markdown",
      "id": "f77b0568",
      "metadata": {
        "id": "f77b0568"
      },
      "source": [
        "---"
      ]
    },
    {
      "cell_type": "markdown",
      "id": "79a081b1",
      "metadata": {
        "id": "79a081b1"
      },
      "source": [
        "### **Пункт №9. Объединение файлов**"
      ]
    },
    {
      "cell_type": "markdown",
      "id": "599cee3c",
      "metadata": {
        "id": "599cee3c"
      },
      "source": [
        "Создайте функцию `merge_files(file_list, output_file)`, которая объединяет содержимое нескольких текстовых файлов в один, добавляя после каждого разделитель.\n",
        "\n",
        "**ОБЯЗАТЕЛЬНО:**\n",
        "- Создайте минимум 3 файла с разным содержимым\n",
        "- Выведите содержимое КАЖДОГО исходного файла\n",
        "- Выполните объединение\n",
        "- Выведите содержимое результирующего файла"
      ]
    },
    {
      "cell_type": "code",
      "execution_count": null,
      "id": "581b5868",
      "metadata": {
        "id": "581b5868"
      },
      "outputs": [],
      "source": [
        "# Ваш код и демонстрация работы"
      ]
    },
    {
      "cell_type": "markdown",
      "id": "eb866091",
      "metadata": {
        "id": "eb866091"
      },
      "source": [
        "---"
      ]
    }
  ],
  "metadata": {
    "colab": {
      "provenance": [],
      "include_colab_link": true
    },
    "language_info": {
      "name": "python"
    },
    "kernelspec": {
      "name": "python3",
      "display_name": "Python 3"
    }
  },
  "nbformat": 4,
  "nbformat_minor": 5
}